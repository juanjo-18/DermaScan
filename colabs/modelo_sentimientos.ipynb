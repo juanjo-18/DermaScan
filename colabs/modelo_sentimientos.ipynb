{
  "nbformat": 4,
  "nbformat_minor": 0,
  "metadata": {
    "colab": {
      "provenance": [],
      "machine_shape": "hm"
    },
    "kernelspec": {
      "name": "python3",
      "display_name": "Python 3"
    },
    "language_info": {
      "name": "python"
    }
  },
  "cells": [
    {
      "cell_type": "markdown",
      "source": [
        "# Creación de un modelo de sentimientos."
      ],
      "metadata": {
        "id": "NgjylmcSHMf2"
      }
    },
    {
      "cell_type": "markdown",
      "source": [
        "El modelo de sentimientos, ha sido necesario crear un dataset hecho a mano analizando las frases con la libreria nltk y despues se entrena el modelo a traves del dataset previamente creado."
      ],
      "metadata": {
        "id": "HLzqBzumH2u4"
      }
    },
    {
      "cell_type": "markdown",
      "source": [
        "## Importaciones y instalaciones."
      ],
      "metadata": {
        "id": "mbqSu8PqHSdx"
      }
    },
    {
      "cell_type": "code",
      "execution_count": 1,
      "metadata": {
        "colab": {
          "base_uri": "https://localhost:8080/"
        },
        "id": "4NxSQNKLG6Jq",
        "outputId": "fdda1110-605b-45c5-dd73-f7c7b58bab78"
      },
      "outputs": [
        {
          "output_type": "stream",
          "name": "stdout",
          "text": [
            "Collecting translate\n",
            "  Downloading translate-3.6.1-py2.py3-none-any.whl (12 kB)\n",
            "Requirement already satisfied: click in /usr/local/lib/python3.10/dist-packages (from translate) (8.1.7)\n",
            "Requirement already satisfied: lxml in /usr/local/lib/python3.10/dist-packages (from translate) (4.9.4)\n",
            "Requirement already satisfied: requests in /usr/local/lib/python3.10/dist-packages (from translate) (2.31.0)\n",
            "Collecting libretranslatepy==2.1.1 (from translate)\n",
            "  Downloading libretranslatepy-2.1.1-py3-none-any.whl (3.2 kB)\n",
            "Requirement already satisfied: charset-normalizer<4,>=2 in /usr/local/lib/python3.10/dist-packages (from requests->translate) (3.3.2)\n",
            "Requirement already satisfied: idna<4,>=2.5 in /usr/local/lib/python3.10/dist-packages (from requests->translate) (3.6)\n",
            "Requirement already satisfied: urllib3<3,>=1.21.1 in /usr/local/lib/python3.10/dist-packages (from requests->translate) (2.0.7)\n",
            "Requirement already satisfied: certifi>=2017.4.17 in /usr/local/lib/python3.10/dist-packages (from requests->translate) (2024.2.2)\n",
            "Installing collected packages: libretranslatepy, translate\n",
            "Successfully installed libretranslatepy-2.1.1 translate-3.6.1\n"
          ]
        }
      ],
      "source": [
        "!pip install translate"
      ]
    },
    {
      "cell_type": "code",
      "source": [
        "pip install tensorflow"
      ],
      "metadata": {
        "colab": {
          "base_uri": "https://localhost:8080/"
        },
        "id": "kBDubQV2M5CU",
        "outputId": "8267dad3-7191-4073-df10-3041254a9892"
      },
      "execution_count": 2,
      "outputs": [
        {
          "output_type": "stream",
          "name": "stdout",
          "text": [
            "Requirement already satisfied: tensorflow in /usr/local/lib/python3.10/dist-packages (2.15.0)\n",
            "Requirement already satisfied: absl-py>=1.0.0 in /usr/local/lib/python3.10/dist-packages (from tensorflow) (1.4.0)\n",
            "Requirement already satisfied: astunparse>=1.6.0 in /usr/local/lib/python3.10/dist-packages (from tensorflow) (1.6.3)\n",
            "Requirement already satisfied: flatbuffers>=23.5.26 in /usr/local/lib/python3.10/dist-packages (from tensorflow) (23.5.26)\n",
            "Requirement already satisfied: gast!=0.5.0,!=0.5.1,!=0.5.2,>=0.2.1 in /usr/local/lib/python3.10/dist-packages (from tensorflow) (0.5.4)\n",
            "Requirement already satisfied: google-pasta>=0.1.1 in /usr/local/lib/python3.10/dist-packages (from tensorflow) (0.2.0)\n",
            "Requirement already satisfied: h5py>=2.9.0 in /usr/local/lib/python3.10/dist-packages (from tensorflow) (3.9.0)\n",
            "Requirement already satisfied: libclang>=13.0.0 in /usr/local/lib/python3.10/dist-packages (from tensorflow) (16.0.6)\n",
            "Requirement already satisfied: ml-dtypes~=0.2.0 in /usr/local/lib/python3.10/dist-packages (from tensorflow) (0.2.0)\n",
            "Requirement already satisfied: numpy<2.0.0,>=1.23.5 in /usr/local/lib/python3.10/dist-packages (from tensorflow) (1.25.2)\n",
            "Requirement already satisfied: opt-einsum>=2.3.2 in /usr/local/lib/python3.10/dist-packages (from tensorflow) (3.3.0)\n",
            "Requirement already satisfied: packaging in /usr/local/lib/python3.10/dist-packages (from tensorflow) (23.2)\n",
            "Requirement already satisfied: protobuf!=4.21.0,!=4.21.1,!=4.21.2,!=4.21.3,!=4.21.4,!=4.21.5,<5.0.0dev,>=3.20.3 in /usr/local/lib/python3.10/dist-packages (from tensorflow) (3.20.3)\n",
            "Requirement already satisfied: setuptools in /usr/local/lib/python3.10/dist-packages (from tensorflow) (67.7.2)\n",
            "Requirement already satisfied: six>=1.12.0 in /usr/local/lib/python3.10/dist-packages (from tensorflow) (1.16.0)\n",
            "Requirement already satisfied: termcolor>=1.1.0 in /usr/local/lib/python3.10/dist-packages (from tensorflow) (2.4.0)\n",
            "Requirement already satisfied: typing-extensions>=3.6.6 in /usr/local/lib/python3.10/dist-packages (from tensorflow) (4.10.0)\n",
            "Requirement already satisfied: wrapt<1.15,>=1.11.0 in /usr/local/lib/python3.10/dist-packages (from tensorflow) (1.14.1)\n",
            "Requirement already satisfied: tensorflow-io-gcs-filesystem>=0.23.1 in /usr/local/lib/python3.10/dist-packages (from tensorflow) (0.36.0)\n",
            "Requirement already satisfied: grpcio<2.0,>=1.24.3 in /usr/local/lib/python3.10/dist-packages (from tensorflow) (1.62.0)\n",
            "Requirement already satisfied: tensorboard<2.16,>=2.15 in /usr/local/lib/python3.10/dist-packages (from tensorflow) (2.15.2)\n",
            "Requirement already satisfied: tensorflow-estimator<2.16,>=2.15.0 in /usr/local/lib/python3.10/dist-packages (from tensorflow) (2.15.0)\n",
            "Requirement already satisfied: keras<2.16,>=2.15.0 in /usr/local/lib/python3.10/dist-packages (from tensorflow) (2.15.0)\n",
            "Requirement already satisfied: wheel<1.0,>=0.23.0 in /usr/local/lib/python3.10/dist-packages (from astunparse>=1.6.0->tensorflow) (0.42.0)\n",
            "Requirement already satisfied: google-auth<3,>=1.6.3 in /usr/local/lib/python3.10/dist-packages (from tensorboard<2.16,>=2.15->tensorflow) (2.27.0)\n",
            "Requirement already satisfied: google-auth-oauthlib<2,>=0.5 in /usr/local/lib/python3.10/dist-packages (from tensorboard<2.16,>=2.15->tensorflow) (1.2.0)\n",
            "Requirement already satisfied: markdown>=2.6.8 in /usr/local/lib/python3.10/dist-packages (from tensorboard<2.16,>=2.15->tensorflow) (3.5.2)\n",
            "Requirement already satisfied: requests<3,>=2.21.0 in /usr/local/lib/python3.10/dist-packages (from tensorboard<2.16,>=2.15->tensorflow) (2.31.0)\n",
            "Requirement already satisfied: tensorboard-data-server<0.8.0,>=0.7.0 in /usr/local/lib/python3.10/dist-packages (from tensorboard<2.16,>=2.15->tensorflow) (0.7.2)\n",
            "Requirement already satisfied: werkzeug>=1.0.1 in /usr/local/lib/python3.10/dist-packages (from tensorboard<2.16,>=2.15->tensorflow) (3.0.1)\n",
            "Requirement already satisfied: cachetools<6.0,>=2.0.0 in /usr/local/lib/python3.10/dist-packages (from google-auth<3,>=1.6.3->tensorboard<2.16,>=2.15->tensorflow) (5.3.3)\n",
            "Requirement already satisfied: pyasn1-modules>=0.2.1 in /usr/local/lib/python3.10/dist-packages (from google-auth<3,>=1.6.3->tensorboard<2.16,>=2.15->tensorflow) (0.3.0)\n",
            "Requirement already satisfied: rsa<5,>=3.1.4 in /usr/local/lib/python3.10/dist-packages (from google-auth<3,>=1.6.3->tensorboard<2.16,>=2.15->tensorflow) (4.9)\n",
            "Requirement already satisfied: requests-oauthlib>=0.7.0 in /usr/local/lib/python3.10/dist-packages (from google-auth-oauthlib<2,>=0.5->tensorboard<2.16,>=2.15->tensorflow) (1.3.1)\n",
            "Requirement already satisfied: charset-normalizer<4,>=2 in /usr/local/lib/python3.10/dist-packages (from requests<3,>=2.21.0->tensorboard<2.16,>=2.15->tensorflow) (3.3.2)\n",
            "Requirement already satisfied: idna<4,>=2.5 in /usr/local/lib/python3.10/dist-packages (from requests<3,>=2.21.0->tensorboard<2.16,>=2.15->tensorflow) (3.6)\n",
            "Requirement already satisfied: urllib3<3,>=1.21.1 in /usr/local/lib/python3.10/dist-packages (from requests<3,>=2.21.0->tensorboard<2.16,>=2.15->tensorflow) (2.0.7)\n",
            "Requirement already satisfied: certifi>=2017.4.17 in /usr/local/lib/python3.10/dist-packages (from requests<3,>=2.21.0->tensorboard<2.16,>=2.15->tensorflow) (2024.2.2)\n",
            "Requirement already satisfied: MarkupSafe>=2.1.1 in /usr/local/lib/python3.10/dist-packages (from werkzeug>=1.0.1->tensorboard<2.16,>=2.15->tensorflow) (2.1.5)\n",
            "Requirement already satisfied: pyasn1<0.6.0,>=0.4.6 in /usr/local/lib/python3.10/dist-packages (from pyasn1-modules>=0.2.1->google-auth<3,>=1.6.3->tensorboard<2.16,>=2.15->tensorflow) (0.5.1)\n",
            "Requirement already satisfied: oauthlib>=3.0.0 in /usr/local/lib/python3.10/dist-packages (from requests-oauthlib>=0.7.0->google-auth-oauthlib<2,>=0.5->tensorboard<2.16,>=2.15->tensorflow) (3.2.2)\n"
          ]
        }
      ]
    },
    {
      "cell_type": "code",
      "source": [
        "pip install keras"
      ],
      "metadata": {
        "colab": {
          "base_uri": "https://localhost:8080/"
        },
        "id": "SEw8fXPNM6zt",
        "outputId": "71e7735d-62eb-4a07-af72-f3970feb9cff"
      },
      "execution_count": 3,
      "outputs": [
        {
          "output_type": "stream",
          "name": "stdout",
          "text": [
            "Requirement already satisfied: keras in /usr/local/lib/python3.10/dist-packages (2.15.0)\n"
          ]
        }
      ]
    },
    {
      "cell_type": "code",
      "source": [
        "import nltk\n",
        "from nltk.sentiment import SentimentIntensityAnalyzer\n",
        "from nltk.corpus import stopwords\n",
        "from nltk.chat.util import Chat, reflections\n",
        "import random\n",
        "import numpy as np\n",
        "import pandas as pd\n",
        "import matplotlib.pyplot as plt\n",
        "import seaborn as sns\n",
        "from sklearn.model_selection import train_test_split\n",
        "from sklearn.metrics import mean_squared_error, r2_score, mean_absolute_error, accuracy_score\n",
        "from sklearn.tree import DecisionTreeRegressor\n",
        "from sklearn.linear_model import LinearRegression\n",
        "from sklearn.ensemble import RandomForestRegressor\n",
        "from sklearn.svm import SVR\n",
        "from sklearn.neighbors import KNeighborsRegressor\n",
        "from sklearn.feature_extraction.text import CountVectorizer\n",
        "from sklearn.pipeline import make_pipeline\n",
        "from sklearn import preprocessing\n",
        "from translate import Translator\n",
        "import requests\n",
        "from bs4 import BeautifulSoup\n",
        "import re\n",
        "import os\n",
        "import torch\n",
        "import torch.nn as nn\n",
        "from torch.utils.data import DataLoader\n",
        "from PIL import Image\n",
        "import torch.nn.functional as F\n",
        "import torchvision.transforms as transforms\n",
        "from torchvision.utils import make_grid\n",
        "from torchvision.datasets import ImageFolder\n",
        "from torchsummary import summary\n",
        "import tensorflow as ts\n",
        "from tensorflow import keras\n",
        "import itertools\n",
        "from sklearn.metrics import precision_score, recall_score, confusion_matrix, ConfusionMatrixDisplay\n",
        "from tensorflow.keras.models import Sequential\n",
        "from tensorflow.keras.layers import Dense, Embedding, Flatten, Dropout\n",
        "from tensorflow.keras.preprocessing.text import Tokenizer\n",
        "from tensorflow.keras.preprocessing.sequence import pad_sequences\n",
        "import joblib\n",
        "from tensorflow.keras.callbacks import History, EarlyStopping\n",
        "\n",
        "# Descarga los recursos de nltk necesarios\n",
        "nltk.download('vader_lexicon')\n",
        "nltk.download('stopwords')\n",
        "\n"
      ],
      "metadata": {
        "colab": {
          "base_uri": "https://localhost:8080/"
        },
        "id": "hFONBK-cHFHs",
        "outputId": "02df8f9f-728d-42d3-c55e-fdc24a681490"
      },
      "execution_count": 25,
      "outputs": [
        {
          "output_type": "stream",
          "name": "stderr",
          "text": [
            "[nltk_data] Downloading package vader_lexicon to /root/nltk_data...\n",
            "[nltk_data]   Package vader_lexicon is already up-to-date!\n",
            "[nltk_data] Downloading package stopwords to /root/nltk_data...\n",
            "[nltk_data]   Package stopwords is already up-to-date!\n"
          ]
        },
        {
          "output_type": "execute_result",
          "data": {
            "text/plain": [
              "True"
            ]
          },
          "metadata": {},
          "execution_count": 25
        }
      ]
    },
    {
      "cell_type": "markdown",
      "source": [
        "## Creo un buscador de sinonimos."
      ],
      "metadata": {
        "id": "YR0k0N8WHWCB"
      }
    },
    {
      "cell_type": "markdown",
      "source": [
        "Aquí estoy buscando sinonimos de palabras para despues penalizarlas o puntuarlas mejor."
      ],
      "metadata": {
        "id": "IppS2CZsIhzC"
      }
    },
    {
      "cell_type": "code",
      "source": [
        "sinonimos_conjunto = []\n",
        "sinonimos_lista = []\n",
        "def obtener_sinonimos(palabra):\n",
        "    global sinonimos_conjunto\n",
        "\n",
        "    url = 'http://www.wordreference.com/sinonimos/'\n",
        "    enlace = f\"{url}{palabra}\"\n",
        "\n",
        "    resp = requests.get(enlace)\n",
        "    bs = BeautifulSoup(resp.text, 'html.parser')\n",
        "\n",
        "    # Busca la sección de sinónimos y antónimos\n",
        "    seccion_sinonimos_antonimos = bs.find('div', id='otherDicts').find('div', class_='trans esp clickable')\n",
        "\n",
        "    # Verifica si se encontró la sección de sinónimos y antónimos\n",
        "    if seccion_sinonimos_antonimos:\n",
        "        # Extrae y agrega los sinónimos a la lista\n",
        "        for elemento in seccion_sinonimos_antonimos.find_all(['li', 'div']):\n",
        "            texto = elemento.get_text(strip=True)\n",
        "            if texto.startswith('Antónimos:'):\n",
        "                break  # Termina si encontramos la sección de antónimos\n",
        "            sinonimos_conjunto.extend(texto.split(', '))\n",
        "\n",
        "        # Imprime los sinónimos para la palabra actual\n",
        "        sinonimos_conjunto += sinonimos_lista\n",
        "        print(f\"Sinónimos de '{palabra}': {sinonimos_conjunto}\")\n",
        "\n",
        "    else:\n",
        "        print(f\"No se encontraron sinónimos para la palabra '{palabra}'.\")\n",
        "\n",
        "# Lista de palabras para buscar sinónimos\n",
        "palabras_a_buscar = [\"triste\", \"morir\",\"perdido\",\"ansiedad\"]\n",
        "\n",
        "# Itera sobre la lista y obtén sinónimos para cada palabra\n",
        "for palabra in palabras_a_buscar:\n",
        "    obtener_sinonimos(palabra)\n",
        "\n",
        "# Convierte la lista a un string antes de imprimir\n",
        "print(\"Conjuntas: \" + str(sinonimos_conjunto))"
      ],
      "metadata": {
        "colab": {
          "base_uri": "https://localhost:8080/"
        },
        "id": "xrw67lOMHWsh",
        "outputId": "8c1aece1-7e22-423f-8594-cc0f5cec8678"
      },
      "execution_count": 5,
      "outputs": [
        {
          "output_type": "stream",
          "name": "stdout",
          "text": [
            "Sinónimos de 'triste': ['afligido', ' apenado', ' entristecido', ' apesadumbrado', ' atribulado', ' pesaroso', ' mohíno', ' mustio', ' taciturno', ' compungido', ' lloroso', ' cariacontecido']\n",
            "Sinónimos de 'morir': ['afligido', ' apenado', ' entristecido', ' apesadumbrado', ' atribulado', ' pesaroso', ' mohíno', ' mustio', ' taciturno', ' compungido', ' lloroso', ' cariacontecido', 'fallecer', ' expirar', ' agonizar', ' sucumbir', ' perecer', ' fenecer', ' finar', ' diñar', ' espichar', 'estirar la pata', ' pasar a mejor vida', ' irse al otro barrio']\n",
            "Sinónimos de 'perdido': ['afligido', ' apenado', ' entristecido', ' apesadumbrado', ' atribulado', ' pesaroso', ' mohíno', ' mustio', ' taciturno', ' compungido', ' lloroso', ' cariacontecido', 'fallecer', ' expirar', ' agonizar', ' sucumbir', ' perecer', ' fenecer', ' finar', ' diñar', ' espichar', 'estirar la pata', ' pasar a mejor vida', ' irse al otro barrio', 'olvidado', ' extraviado', ' abandonado', ' descuidado', ' despistado', ' desorientado', 'calavera', ' tarambana', ' degenerado', ' depravado', ' sinvergüenza']\n",
            "Sinónimos de 'ansiedad': ['afligido', ' apenado', ' entristecido', ' apesadumbrado', ' atribulado', ' pesaroso', ' mohíno', ' mustio', ' taciturno', ' compungido', ' lloroso', ' cariacontecido', 'fallecer', ' expirar', ' agonizar', ' sucumbir', ' perecer', ' fenecer', ' finar', ' diñar', ' espichar', 'estirar la pata', ' pasar a mejor vida', ' irse al otro barrio', 'olvidado', ' extraviado', ' abandonado', ' descuidado', ' despistado', ' desorientado', 'calavera', ' tarambana', ' degenerado', ' depravado', ' sinvergüenza', 'desasosiego', ' intranquilidad', ' zozobra', ' angustia', ' ansia', ' congoja', ' desazón', ' inquietud', ' preocupación']\n",
            "Conjuntas: ['afligido', ' apenado', ' entristecido', ' apesadumbrado', ' atribulado', ' pesaroso', ' mohíno', ' mustio', ' taciturno', ' compungido', ' lloroso', ' cariacontecido', 'fallecer', ' expirar', ' agonizar', ' sucumbir', ' perecer', ' fenecer', ' finar', ' diñar', ' espichar', 'estirar la pata', ' pasar a mejor vida', ' irse al otro barrio', 'olvidado', ' extraviado', ' abandonado', ' descuidado', ' despistado', ' desorientado', 'calavera', ' tarambana', ' degenerado', ' depravado', ' sinvergüenza', 'desasosiego', ' intranquilidad', ' zozobra', ' angustia', ' ansia', ' congoja', ' desazón', ' inquietud', ' preocupación']\n"
          ]
        }
      ]
    },
    {
      "cell_type": "markdown",
      "source": [
        "## Función que para puntualizar las frases."
      ],
      "metadata": {
        "id": "QPPYkuVDHjJ3"
      }
    },
    {
      "cell_type": "markdown",
      "source": [
        "En este codigo estoy haciendo una puntuacion a una frase comprobando si tiene palabras negativas para puntualizarla peor o si tiene palabras positivas para puntualizarlas mas."
      ],
      "metadata": {
        "id": "6GuxtDcoIsH4"
      }
    },
    {
      "cell_type": "code",
      "source": [
        "def get_sentiment_score(text):\n",
        "    translator = Translator(to_lang='en', from_lang='es')\n",
        "    translation = translator.translate(text)\n",
        "    text_en = translation\n",
        "\n",
        "    sia = SentimentIntensityAnalyzer()\n",
        "\n",
        "    # Obtener la polaridad del análisis de sentimientos\n",
        "    sentiment_polarity = sia.polarity_scores(text_en)['compound']\n",
        "\n",
        "    # Ajustar manualmente el valor para considerar palabras positivas\n",
        "    positive_words = [\"si\", \"sí\", \"afirmativo\", \"claro\"]  # Puedes ampliar esta lista según tus necesidades\n",
        "    negative_words = sinonimos_conjunto  # Asegúrate de definir este conjunto\n",
        "\n",
        "    # Factor de ajuste adicional para palabras positivas\n",
        "    positive_factor = 0.0\n",
        "\n",
        "    # Factor de ajuste adicional para palabras negativas\n",
        "    negative_factor = 0.0\n",
        "\n",
        "    # Sumar positive_factor solo si alguna palabra positiva está presente\n",
        "    if any(word in text.lower() for word in positive_words):\n",
        "        positive_factor += abs(sentiment_polarity) * 0.1  # Puedes ajustar este valor según tus necesidades\n",
        "\n",
        "    # Sumar negative_factor solo si alguna palabra negativa está presente\n",
        "    if any(word in text.lower() for word in negative_words):\n",
        "        negative_factor += abs(sentiment_polarity) * 0.1  # Puedes ajustar este valor según tus necesidades\n",
        "\n",
        "    # Calcular el puntaje final del sentimiento\n",
        "    sentiment_score = max(0, (sentiment_polarity + 1) * 2.5 + positive_factor - negative_factor)\n",
        "\n",
        "    return text_en, sentiment_score"
      ],
      "metadata": {
        "id": "2dNzEd8dHidX"
      },
      "execution_count": 6,
      "outputs": []
    },
    {
      "cell_type": "markdown",
      "source": [
        "## Comprobacion individual"
      ],
      "metadata": {
        "id": "Zu6wc3OYHszs"
      }
    },
    {
      "cell_type": "code",
      "source": [
        "texto = \"esto harto de proyectos quiero acabar con mi vida \"\n",
        "\n",
        "# Dividir el texto en palabras\n",
        "palabras = texto.split()\n",
        "\n",
        "lista_de_palabras=[\"super\",\"bastante\"]\n",
        "contiene_palabra_delante=False\n",
        "\n",
        "indice_cantidad=0\n",
        "indice_negativo=0\n",
        "# Iterar sobre las palabras\n",
        "for indice,palabra in enumerate(palabras):\n",
        "    for palabra1 in lista_de_palabras:\n",
        "      if palabra1==palabra:\n",
        "        indice_cantidad=indice\n",
        "\n",
        "    resultado,score = get_sentiment_score(palabra)\n",
        "    if score < 2.5:\n",
        "      indice_negativo=indice\n",
        "\n",
        "    if indice_cantidad == (indice_negativo-1):\n",
        "      contiene_palabra_delante=True\n",
        "\n",
        "respuesta,score = get_sentiment_score(texto)\n",
        "if contiene_palabra_delante == True:\n",
        "  score=score/2\n",
        "print(f\"El sentimiento de es: \",score)"
      ],
      "metadata": {
        "colab": {
          "base_uri": "https://localhost:8080/"
        },
        "id": "BcitGYZWHuxV",
        "outputId": "3449af54-0a7e-4b5e-d7f6-90bd5f3c33a9"
      },
      "execution_count": 7,
      "outputs": [
        {
          "output_type": "stream",
          "name": "stdout",
          "text": [
            "El sentimiento de es:  0.77275\n"
          ]
        }
      ]
    },
    {
      "cell_type": "markdown",
      "source": [
        "Como podemos ver esta dandole una puntuación adecuada a la frase."
      ],
      "metadata": {
        "id": "ChBb2d5LHvtD"
      }
    },
    {
      "cell_type": "markdown",
      "source": [
        "## Funcion para pasarle un array de frases y que las puntualice."
      ],
      "metadata": {
        "id": "m_r3nDX6I-va"
      }
    },
    {
      "cell_type": "code",
      "source": [
        "def funcion(texto):\n",
        "  # Dividir el texto en palabras\n",
        "  palabras = texto.split()\n",
        "\n",
        "  lista_de_palabras=[\"super\",\"bastante\"]\n",
        "  contiene_palabra_delante=False\n",
        "\n",
        "  indice_cantidad=0\n",
        "  indice_negativo=0\n",
        "  # Iterar sobre las palabras\n",
        "  for indice,palabra in enumerate(palabras):\n",
        "      for palabra1 in lista_de_palabras:\n",
        "        if palabra1==palabra:\n",
        "          indice_cantidad=indice\n",
        "\n",
        "      resultado,score = get_sentiment_score(palabra)\n",
        "      if score < 2.5:\n",
        "        indice_negativo=indice\n",
        "\n",
        "      if indice_cantidad == (indice_negativo-1):\n",
        "        contiene_palabra_delante=True\n",
        "\n",
        "  respuesta,score = get_sentiment_score(texto)\n",
        "  if contiene_palabra_delante == True:\n",
        "    score=score/2\n",
        "\n",
        "  return score"
      ],
      "metadata": {
        "id": "WhuyxZZ8JCh6"
      },
      "execution_count": 8,
      "outputs": []
    },
    {
      "cell_type": "markdown",
      "source": [
        "## Arreglando las frases antes de puntualizarlas."
      ],
      "metadata": {
        "id": "-nBXWltXLecz"
      }
    },
    {
      "cell_type": "code",
      "source": [
        "def limpiar_texto(texto):\n",
        "    # Convertir el texto a minúsculas\n",
        "    texto_minusculas = texto.lower()\n",
        "\n",
        "    # Eliminar los patrones de arroba seguido de texto hasta el espacio\n",
        "    texto_sin_arrobas = re.sub(r'@\\S+', '', texto_minusculas)\n",
        "\n",
        "    # Eliminar las URLs\n",
        "    texto_sin_urls = re.sub(r'http[s]?://\\S+', '', texto_sin_arrobas)\n",
        "\n",
        "    # Eliminar los emoticonos\n",
        "    texto_sin_emoticonos = re.sub(r'[\\U0001F600-\\U0001F64F\\U0001F300-\\U0001F5FF\\U0001F680-\\U0001F6FF\\U0001F700-\\U0001F77F\\U0001F780-\\U0001F7FF\\U0001F800-\\U0001F8FF\\U0001F900-\\U0001F9FF\\U0001FA00-\\U0001FA6F\\U0001FA70-\\U0001FAFF\\U00002702-\\U000027B0\\U000024C2-\\U0001F251]+', '', texto_sin_urls)\n",
        "\n",
        "    # Eliminar los hashtags y lo que sigue hasta el espacio\n",
        "    texto_sin_hashtags = re.sub(r'#\\S+\\s', '', texto_sin_emoticonos)\n",
        "\n",
        "    return texto_sin_hashtags\n",
        "\n",
        "\n",
        "# Las frases proporcionadas\n",
        "textos = [\n",
        "    \"Un chico bohemio para fumar, leer, follar y hablar\",\n",
        "    \"Ya me acostumbré a despertarme y no tener ni un mensaje en WhatsApp\",\n",
        "    \"Si no apoyamos a los nuestros no estamos en nada, en pocos minutos #ElRingdelaspalabras en #Larfm https://t.co/2ucJSiVFit\",\n",
        "    \"Engomado con la lectura erótica.\",\n",
        "    \"Una gran pérdida para la música, para el arte. https://t.co/atCh1xyS05\",\n",
        "    \"@Ritsuka4 Igual tú para mí 🤗\",\n",
        "    \"Borracho.\",\n",
        "    \"@JeffCaicedo 😍\",\n",
        "    \"¿Eres feliz?\",\n",
        "    \"Yo escribo aquí como para dejar algunas cosas que pienso en el momento porque me leen como 3 personas, los amo igual. 😍\",\n",
        "    \"Con el tiempo entendí que a los que llamé amigos o mejores amigos solo lo fueron de una época de mi vida, están en un lugar especial pero ya no somos las mismas personas que éramos antes.\",\n",
        "    \"Ay querido si siempre vas a abrir la boca para destilar veneno ahógate tú solo en tus palabras.... Yo me voy, ahí te quedas jaja\",\n",
        "    \"Me gusta estar al lado del camino fumando el humo mientras todo pasa\",\n",
        "    \"Muero por un beso de esos que no son de amigos\",\n",
        "    \"@MariaCamila_C Jajaja bebé eso termina en el suelo, las arruncho mientras me duermo pero ya luego me fastidian\",\n",
        "    \"Soy de amores simples, de tragos corrientes en la calle sin apariencias y abriendo los sentimientos hablando de lo que realmente vale sin aparentar cuánto pagamos por lo que nos tomamos.\",\n",
        "    \"Vengo a confesarles que me hace mucha falta la mariconería, bailar así muy entregado en el antro con las amigas maricas 🏳️‍🌈🏳️‍🌈🏳️‍🌈🏳️‍🌈\",\n",
        "    \"@MariaCamila_C Tengo 4 pero dejo solo unita\",\n",
        "    \"Si usa gel déjalo ir 😂\",\n",
        "    \"Querer superar la depre pero no dejar de poner temas sad. Así es\",\n",
        "    \"Sueño con el día que pueda ver sin necesidad de ponerme las gafas.\",\n",
        "    \"Ignorar ignorar ignorar.\",\n",
        "    \"Amanecí fastidiado de lo que esperan siempre que sea y haga.\",\n",
        "    \"Tengo un toque Midas para las relaciones, cualquiera que medio se acerca a un intento de algo conmigo fijo fijo consigue su relación soñada después de mí.\",\n",
        "    \"Es difícil no sentirse frustrado viviendo en un país en el que las oportunidades son tan escasas, aún así de verdad espero esta vez conseguir algo de trabajo. Ojalá ustedes tengan uno bueno 💪\"\n",
        "]\n",
        "\n",
        "textos_procesados = [limpiar_texto(texto) for texto in textos]\n",
        "array=[]\n",
        "textos_procesados = []\n",
        "\n",
        "for texto in textos:\n",
        "    texto_procesado = limpiar_texto(texto)\n",
        "    textos_procesados.append(texto_procesado)\n",
        "\n",
        "print(\"textos =\", textos_procesados)\n"
      ],
      "metadata": {
        "colab": {
          "base_uri": "https://localhost:8080/"
        },
        "id": "vydoLl-ZLkrS",
        "outputId": "9f420c39-8ca7-47a0-f853-1a64699437af"
      },
      "execution_count": 9,
      "outputs": [
        {
          "output_type": "stream",
          "name": "stdout",
          "text": [
            "textos = ['un chico bohemio para fumar, leer, follar y hablar', 'ya me acostumbré a despertarme y no tener ni un mensaje en whatsapp', 'si no apoyamos a los nuestros no estamos en nada, en pocos minutos en ', 'engomado con la lectura erótica.', 'una gran pérdida para la música, para el arte. ', ' igual tú para mí ', 'borracho.', ' ', '¿eres feliz?', 'yo escribo aquí como para dejar algunas cosas que pienso en el momento porque me leen como 3 personas, los amo igual. ', 'con el tiempo entendí que a los que llamé amigos o mejores amigos solo lo fueron de una época de mi vida, están en un lugar especial pero ya no somos las mismas personas que éramos antes.', 'ay querido si siempre vas a abrir la boca para destilar veneno ahógate tú solo en tus palabras.... yo me voy, ahí te quedas jaja', 'me gusta estar al lado del camino fumando el humo mientras todo pasa', 'muero por un beso de esos que no son de amigos', ' jajaja bebé eso termina en el suelo, las arruncho mientras me duermo pero ya luego me fastidian', 'soy de amores simples, de tragos corrientes en la calle sin apariencias y abriendo los sentimientos hablando de lo que realmente vale sin aparentar cuánto pagamos por lo que nos tomamos.', 'vengo a confesarles que me hace mucha falta la mariconería, bailar así muy entregado en el antro con las amigas maricas \\u200d\\u200d\\u200d\\u200d', ' tengo 4 pero dejo solo unita', 'si usa gel déjalo ir ', 'querer superar la depre pero no dejar de poner temas sad. así es', 'sueño con el día que pueda ver sin necesidad de ponerme las gafas.', 'ignorar ignorar ignorar.', 'amanecí fastidiado de lo que esperan siempre que sea y haga.', 'tengo un toque midas para las relaciones, cualquiera que medio se acerca a un intento de algo conmigo fijo fijo consigue su relación soñada después de mí.', 'es difícil no sentirse frustrado viviendo en un país en el que las oportunidades son tan escasas, aún así de verdad espero esta vez conseguir algo de trabajo. ojalá ustedes tengan uno bueno ']\n"
          ]
        }
      ]
    },
    {
      "cell_type": "markdown",
      "source": [
        "Aqui estamos eliminadon valores y caracteres que no son necesarios, como los iconos, eliminar los @ y el texto asociado, eliminar # y su texto, eliminar urls y convertir todo a minusculas."
      ],
      "metadata": {
        "id": "2MFUpeaeLl-e"
      }
    },
    {
      "cell_type": "markdown",
      "source": [
        "## Puntualizando frases para añadirlo al dataset."
      ],
      "metadata": {
        "id": "gkyhlxxfJDpM"
      }
    },
    {
      "cell_type": "code",
      "source": [
        "textos = ['esta soy yo al ver que las directioners piden ayuda a otros fandoms y la pagina no cuenta todo lo que ya llevamos que creo que arrevazamos a 1d pero la pagina ni verga  ', 'púdrete maldita sensación de angustia y desespero por no tener nada estable, déjame descansar de tu compañía pinche perra.']\n",
        "\n",
        "for resultado in textos:\n",
        "  score=funcion(resultado)\n",
        "  formatted_score = \"{:.2f}\".format(score)\n",
        "  print(resultado,\" ,puntuacion: \", formatted_score)\n"
      ],
      "metadata": {
        "colab": {
          "base_uri": "https://localhost:8080/"
        },
        "id": "yzA9imoRJDKF",
        "outputId": "ced955af-b779-4a5a-c0c2-7d84c5b210e9"
      },
      "execution_count": 11,
      "outputs": [
        {
          "output_type": "stream",
          "name": "stdout",
          "text": [
            "esta soy yo al ver que las directioners piden ayuda a otros fandoms y la pagina no cuenta todo lo que ya llevamos que creo que arrevazamos a 1d pero la pagina ni verga    ,puntuacion:  3.04\n",
            "púdrete maldita sensación de angustia y desespero por no tener nada estable, déjame descansar de tu compañía pinche perra.  ,puntuacion:  0.02\n"
          ]
        }
      ]
    },
    {
      "cell_type": "markdown",
      "source": [
        "Podemos ver que esta puntualizando correctamente las frases, estas frases se añadiria a un excel borrando las palabras individuales y borrando frases en blanco.\n",
        "Una vez que tengamos suficientes frases crearemos el csv."
      ],
      "metadata": {
        "id": "Ja8pNHkLJiOt"
      }
    },
    {
      "cell_type": "markdown",
      "source": [
        "## Importamos el csv que hemos creado."
      ],
      "metadata": {
        "id": "_ZnJi8X6J3wZ"
      }
    },
    {
      "cell_type": "code",
      "source": [
        "file_path ='/content/drive/MyDrive/dataset/dataset_sentimientos.csv'\n",
        "df = pd.read_csv(file_path)"
      ],
      "metadata": {
        "id": "2MQvipceJK1j"
      },
      "execution_count": 13,
      "outputs": []
    },
    {
      "cell_type": "markdown",
      "source": [
        "## Muestras de informacion del dataset."
      ],
      "metadata": {
        "id": "Gv4JCS-WKKtg"
      }
    },
    {
      "cell_type": "code",
      "source": [
        "df.info()"
      ],
      "metadata": {
        "colab": {
          "base_uri": "https://localhost:8080/"
        },
        "id": "11Z1uqMjJ9cy",
        "outputId": "d8fb981f-6ac3-437f-f22e-7ff38d85cde2"
      },
      "execution_count": 14,
      "outputs": [
        {
          "output_type": "stream",
          "name": "stdout",
          "text": [
            "<class 'pandas.core.frame.DataFrame'>\n",
            "RangeIndex: 381 entries, 0 to 380\n",
            "Data columns (total 2 columns):\n",
            " #   Column      Non-Null Count  Dtype  \n",
            "---  ------      --------------  -----  \n",
            " 0   texto       381 non-null    object \n",
            " 1   puntuacion  381 non-null    float64\n",
            "dtypes: float64(1), object(1)\n",
            "memory usage: 6.1+ KB\n"
          ]
        }
      ]
    },
    {
      "cell_type": "markdown",
      "source": [
        "Podemos ver que tenemos 343 registros, que no tenemos valores nulos y tenemos dos columnas:\n",
        "- Texto: frase que se a puntualizado\n",
        "- Puntuacion: puntuación de la frase"
      ],
      "metadata": {
        "id": "4b2Lg6qTKNzC"
      }
    },
    {
      "cell_type": "code",
      "source": [
        "df.head()"
      ],
      "metadata": {
        "colab": {
          "base_uri": "https://localhost:8080/",
          "height": 206
        },
        "id": "XIHzuXbkKjGc",
        "outputId": "1bfe3dc3-f330-4ef0-fc2a-b1d743b86af7"
      },
      "execution_count": 15,
      "outputs": [
        {
          "output_type": "execute_result",
          "data": {
            "text/plain": [
              "                                               texto  puntuacion\n",
              "0                                     No me afecta          2.50\n",
              "1                                         Angustia          1.00\n",
              "2                                    No me importa          3.73\n",
              "3            No me afecta porque no voy por detrás          2.50\n",
              "4  Mal, me pongo triste y no me gusta porque son ...        0.51"
            ],
            "text/html": [
              "\n",
              "  <div id=\"df-579365b3-8272-4774-9961-4194bef538a0\" class=\"colab-df-container\">\n",
              "    <div>\n",
              "<style scoped>\n",
              "    .dataframe tbody tr th:only-of-type {\n",
              "        vertical-align: middle;\n",
              "    }\n",
              "\n",
              "    .dataframe tbody tr th {\n",
              "        vertical-align: top;\n",
              "    }\n",
              "\n",
              "    .dataframe thead th {\n",
              "        text-align: right;\n",
              "    }\n",
              "</style>\n",
              "<table border=\"1\" class=\"dataframe\">\n",
              "  <thead>\n",
              "    <tr style=\"text-align: right;\">\n",
              "      <th></th>\n",
              "      <th>texto</th>\n",
              "      <th>puntuacion</th>\n",
              "    </tr>\n",
              "  </thead>\n",
              "  <tbody>\n",
              "    <tr>\n",
              "      <th>0</th>\n",
              "      <td>No me afecta</td>\n",
              "      <td>2.50</td>\n",
              "    </tr>\n",
              "    <tr>\n",
              "      <th>1</th>\n",
              "      <td>Angustia</td>\n",
              "      <td>1.00</td>\n",
              "    </tr>\n",
              "    <tr>\n",
              "      <th>2</th>\n",
              "      <td>No me importa</td>\n",
              "      <td>3.73</td>\n",
              "    </tr>\n",
              "    <tr>\n",
              "      <th>3</th>\n",
              "      <td>No me afecta porque no voy por detrás</td>\n",
              "      <td>2.50</td>\n",
              "    </tr>\n",
              "    <tr>\n",
              "      <th>4</th>\n",
              "      <td>Mal, me pongo triste y no me gusta porque son ...</td>\n",
              "      <td>0.51</td>\n",
              "    </tr>\n",
              "  </tbody>\n",
              "</table>\n",
              "</div>\n",
              "    <div class=\"colab-df-buttons\">\n",
              "\n",
              "  <div class=\"colab-df-container\">\n",
              "    <button class=\"colab-df-convert\" onclick=\"convertToInteractive('df-579365b3-8272-4774-9961-4194bef538a0')\"\n",
              "            title=\"Convert this dataframe to an interactive table.\"\n",
              "            style=\"display:none;\">\n",
              "\n",
              "  <svg xmlns=\"http://www.w3.org/2000/svg\" height=\"24px\" viewBox=\"0 -960 960 960\">\n",
              "    <path d=\"M120-120v-720h720v720H120Zm60-500h600v-160H180v160Zm220 220h160v-160H400v160Zm0 220h160v-160H400v160ZM180-400h160v-160H180v160Zm440 0h160v-160H620v160ZM180-180h160v-160H180v160Zm440 0h160v-160H620v160Z\"/>\n",
              "  </svg>\n",
              "    </button>\n",
              "\n",
              "  <style>\n",
              "    .colab-df-container {\n",
              "      display:flex;\n",
              "      gap: 12px;\n",
              "    }\n",
              "\n",
              "    .colab-df-convert {\n",
              "      background-color: #E8F0FE;\n",
              "      border: none;\n",
              "      border-radius: 50%;\n",
              "      cursor: pointer;\n",
              "      display: none;\n",
              "      fill: #1967D2;\n",
              "      height: 32px;\n",
              "      padding: 0 0 0 0;\n",
              "      width: 32px;\n",
              "    }\n",
              "\n",
              "    .colab-df-convert:hover {\n",
              "      background-color: #E2EBFA;\n",
              "      box-shadow: 0px 1px 2px rgba(60, 64, 67, 0.3), 0px 1px 3px 1px rgba(60, 64, 67, 0.15);\n",
              "      fill: #174EA6;\n",
              "    }\n",
              "\n",
              "    .colab-df-buttons div {\n",
              "      margin-bottom: 4px;\n",
              "    }\n",
              "\n",
              "    [theme=dark] .colab-df-convert {\n",
              "      background-color: #3B4455;\n",
              "      fill: #D2E3FC;\n",
              "    }\n",
              "\n",
              "    [theme=dark] .colab-df-convert:hover {\n",
              "      background-color: #434B5C;\n",
              "      box-shadow: 0px 1px 3px 1px rgba(0, 0, 0, 0.15);\n",
              "      filter: drop-shadow(0px 1px 2px rgba(0, 0, 0, 0.3));\n",
              "      fill: #FFFFFF;\n",
              "    }\n",
              "  </style>\n",
              "\n",
              "    <script>\n",
              "      const buttonEl =\n",
              "        document.querySelector('#df-579365b3-8272-4774-9961-4194bef538a0 button.colab-df-convert');\n",
              "      buttonEl.style.display =\n",
              "        google.colab.kernel.accessAllowed ? 'block' : 'none';\n",
              "\n",
              "      async function convertToInteractive(key) {\n",
              "        const element = document.querySelector('#df-579365b3-8272-4774-9961-4194bef538a0');\n",
              "        const dataTable =\n",
              "          await google.colab.kernel.invokeFunction('convertToInteractive',\n",
              "                                                    [key], {});\n",
              "        if (!dataTable) return;\n",
              "\n",
              "        const docLinkHtml = 'Like what you see? Visit the ' +\n",
              "          '<a target=\"_blank\" href=https://colab.research.google.com/notebooks/data_table.ipynb>data table notebook</a>'\n",
              "          + ' to learn more about interactive tables.';\n",
              "        element.innerHTML = '';\n",
              "        dataTable['output_type'] = 'display_data';\n",
              "        await google.colab.output.renderOutput(dataTable, element);\n",
              "        const docLink = document.createElement('div');\n",
              "        docLink.innerHTML = docLinkHtml;\n",
              "        element.appendChild(docLink);\n",
              "      }\n",
              "    </script>\n",
              "  </div>\n",
              "\n",
              "\n",
              "<div id=\"df-0b91afad-f86f-4d30-861c-6bd1ed00e8bc\">\n",
              "  <button class=\"colab-df-quickchart\" onclick=\"quickchart('df-0b91afad-f86f-4d30-861c-6bd1ed00e8bc')\"\n",
              "            title=\"Suggest charts\"\n",
              "            style=\"display:none;\">\n",
              "\n",
              "<svg xmlns=\"http://www.w3.org/2000/svg\" height=\"24px\"viewBox=\"0 0 24 24\"\n",
              "     width=\"24px\">\n",
              "    <g>\n",
              "        <path d=\"M19 3H5c-1.1 0-2 .9-2 2v14c0 1.1.9 2 2 2h14c1.1 0 2-.9 2-2V5c0-1.1-.9-2-2-2zM9 17H7v-7h2v7zm4 0h-2V7h2v10zm4 0h-2v-4h2v4z\"/>\n",
              "    </g>\n",
              "</svg>\n",
              "  </button>\n",
              "\n",
              "<style>\n",
              "  .colab-df-quickchart {\n",
              "      --bg-color: #E8F0FE;\n",
              "      --fill-color: #1967D2;\n",
              "      --hover-bg-color: #E2EBFA;\n",
              "      --hover-fill-color: #174EA6;\n",
              "      --disabled-fill-color: #AAA;\n",
              "      --disabled-bg-color: #DDD;\n",
              "  }\n",
              "\n",
              "  [theme=dark] .colab-df-quickchart {\n",
              "      --bg-color: #3B4455;\n",
              "      --fill-color: #D2E3FC;\n",
              "      --hover-bg-color: #434B5C;\n",
              "      --hover-fill-color: #FFFFFF;\n",
              "      --disabled-bg-color: #3B4455;\n",
              "      --disabled-fill-color: #666;\n",
              "  }\n",
              "\n",
              "  .colab-df-quickchart {\n",
              "    background-color: var(--bg-color);\n",
              "    border: none;\n",
              "    border-radius: 50%;\n",
              "    cursor: pointer;\n",
              "    display: none;\n",
              "    fill: var(--fill-color);\n",
              "    height: 32px;\n",
              "    padding: 0;\n",
              "    width: 32px;\n",
              "  }\n",
              "\n",
              "  .colab-df-quickchart:hover {\n",
              "    background-color: var(--hover-bg-color);\n",
              "    box-shadow: 0 1px 2px rgba(60, 64, 67, 0.3), 0 1px 3px 1px rgba(60, 64, 67, 0.15);\n",
              "    fill: var(--button-hover-fill-color);\n",
              "  }\n",
              "\n",
              "  .colab-df-quickchart-complete:disabled,\n",
              "  .colab-df-quickchart-complete:disabled:hover {\n",
              "    background-color: var(--disabled-bg-color);\n",
              "    fill: var(--disabled-fill-color);\n",
              "    box-shadow: none;\n",
              "  }\n",
              "\n",
              "  .colab-df-spinner {\n",
              "    border: 2px solid var(--fill-color);\n",
              "    border-color: transparent;\n",
              "    border-bottom-color: var(--fill-color);\n",
              "    animation:\n",
              "      spin 1s steps(1) infinite;\n",
              "  }\n",
              "\n",
              "  @keyframes spin {\n",
              "    0% {\n",
              "      border-color: transparent;\n",
              "      border-bottom-color: var(--fill-color);\n",
              "      border-left-color: var(--fill-color);\n",
              "    }\n",
              "    20% {\n",
              "      border-color: transparent;\n",
              "      border-left-color: var(--fill-color);\n",
              "      border-top-color: var(--fill-color);\n",
              "    }\n",
              "    30% {\n",
              "      border-color: transparent;\n",
              "      border-left-color: var(--fill-color);\n",
              "      border-top-color: var(--fill-color);\n",
              "      border-right-color: var(--fill-color);\n",
              "    }\n",
              "    40% {\n",
              "      border-color: transparent;\n",
              "      border-right-color: var(--fill-color);\n",
              "      border-top-color: var(--fill-color);\n",
              "    }\n",
              "    60% {\n",
              "      border-color: transparent;\n",
              "      border-right-color: var(--fill-color);\n",
              "    }\n",
              "    80% {\n",
              "      border-color: transparent;\n",
              "      border-right-color: var(--fill-color);\n",
              "      border-bottom-color: var(--fill-color);\n",
              "    }\n",
              "    90% {\n",
              "      border-color: transparent;\n",
              "      border-bottom-color: var(--fill-color);\n",
              "    }\n",
              "  }\n",
              "</style>\n",
              "\n",
              "  <script>\n",
              "    async function quickchart(key) {\n",
              "      const quickchartButtonEl =\n",
              "        document.querySelector('#' + key + ' button');\n",
              "      quickchartButtonEl.disabled = true;  // To prevent multiple clicks.\n",
              "      quickchartButtonEl.classList.add('colab-df-spinner');\n",
              "      try {\n",
              "        const charts = await google.colab.kernel.invokeFunction(\n",
              "            'suggestCharts', [key], {});\n",
              "      } catch (error) {\n",
              "        console.error('Error during call to suggestCharts:', error);\n",
              "      }\n",
              "      quickchartButtonEl.classList.remove('colab-df-spinner');\n",
              "      quickchartButtonEl.classList.add('colab-df-quickchart-complete');\n",
              "    }\n",
              "    (() => {\n",
              "      let quickchartButtonEl =\n",
              "        document.querySelector('#df-0b91afad-f86f-4d30-861c-6bd1ed00e8bc button');\n",
              "      quickchartButtonEl.style.display =\n",
              "        google.colab.kernel.accessAllowed ? 'block' : 'none';\n",
              "    })();\n",
              "  </script>\n",
              "</div>\n",
              "    </div>\n",
              "  </div>\n"
            ],
            "application/vnd.google.colaboratory.intrinsic+json": {
              "type": "dataframe",
              "variable_name": "df",
              "summary": "{\n  \"name\": \"df\",\n  \"rows\": 381,\n  \"fields\": [\n    {\n      \"column\": \"texto\",\n      \"properties\": {\n        \"dtype\": \"string\",\n        \"num_unique_values\": 343,\n        \"samples\": [\n          \"yo no nac\\u00ed para amar, nadie naci\\u00f3 para m\\u00ed  \",\n          \"Reclamar la nota  \",\n          \"Me esfuerzo m\\u00e1s  \"\n        ],\n        \"semantic_type\": \"\",\n        \"description\": \"\"\n      }\n    },\n    {\n      \"column\": \"puntuacion\",\n      \"properties\": {\n        \"dtype\": \"number\",\n        \"std\": 1.053937931614876,\n        \"min\": 0.01,\n        \"max\": 4.84,\n        \"num_unique_values\": 141,\n        \"samples\": [\n          1.82,\n          3.13,\n          0.67\n        ],\n        \"semantic_type\": \"\",\n        \"description\": \"\"\n      }\n    }\n  ]\n}"
            }
          },
          "metadata": {},
          "execution_count": 15
        }
      ]
    },
    {
      "cell_type": "markdown",
      "source": [
        "Podemos ver los 5 primeros resultados"
      ],
      "metadata": {
        "id": "zMnpKel6KnWa"
      }
    },
    {
      "cell_type": "code",
      "source": [
        "df.describe()"
      ],
      "metadata": {
        "colab": {
          "base_uri": "https://localhost:8080/",
          "height": 300
        },
        "id": "PtBxVBAXUQDW",
        "outputId": "7efe7d20-208f-4f8e-b22a-bfd4e492838a"
      },
      "execution_count": 16,
      "outputs": [
        {
          "output_type": "execute_result",
          "data": {
            "text/plain": [
              "       puntuacion\n",
              "count  381.000000\n",
              "mean     2.690315\n",
              "std      1.053938\n",
              "min      0.010000\n",
              "25%      2.120000\n",
              "50%      2.900000\n",
              "75%      3.350000\n",
              "max      4.840000"
            ],
            "text/html": [
              "\n",
              "  <div id=\"df-7a14d615-7a62-4fc3-8324-bf37606ba3f6\" class=\"colab-df-container\">\n",
              "    <div>\n",
              "<style scoped>\n",
              "    .dataframe tbody tr th:only-of-type {\n",
              "        vertical-align: middle;\n",
              "    }\n",
              "\n",
              "    .dataframe tbody tr th {\n",
              "        vertical-align: top;\n",
              "    }\n",
              "\n",
              "    .dataframe thead th {\n",
              "        text-align: right;\n",
              "    }\n",
              "</style>\n",
              "<table border=\"1\" class=\"dataframe\">\n",
              "  <thead>\n",
              "    <tr style=\"text-align: right;\">\n",
              "      <th></th>\n",
              "      <th>puntuacion</th>\n",
              "    </tr>\n",
              "  </thead>\n",
              "  <tbody>\n",
              "    <tr>\n",
              "      <th>count</th>\n",
              "      <td>381.000000</td>\n",
              "    </tr>\n",
              "    <tr>\n",
              "      <th>mean</th>\n",
              "      <td>2.690315</td>\n",
              "    </tr>\n",
              "    <tr>\n",
              "      <th>std</th>\n",
              "      <td>1.053938</td>\n",
              "    </tr>\n",
              "    <tr>\n",
              "      <th>min</th>\n",
              "      <td>0.010000</td>\n",
              "    </tr>\n",
              "    <tr>\n",
              "      <th>25%</th>\n",
              "      <td>2.120000</td>\n",
              "    </tr>\n",
              "    <tr>\n",
              "      <th>50%</th>\n",
              "      <td>2.900000</td>\n",
              "    </tr>\n",
              "    <tr>\n",
              "      <th>75%</th>\n",
              "      <td>3.350000</td>\n",
              "    </tr>\n",
              "    <tr>\n",
              "      <th>max</th>\n",
              "      <td>4.840000</td>\n",
              "    </tr>\n",
              "  </tbody>\n",
              "</table>\n",
              "</div>\n",
              "    <div class=\"colab-df-buttons\">\n",
              "\n",
              "  <div class=\"colab-df-container\">\n",
              "    <button class=\"colab-df-convert\" onclick=\"convertToInteractive('df-7a14d615-7a62-4fc3-8324-bf37606ba3f6')\"\n",
              "            title=\"Convert this dataframe to an interactive table.\"\n",
              "            style=\"display:none;\">\n",
              "\n",
              "  <svg xmlns=\"http://www.w3.org/2000/svg\" height=\"24px\" viewBox=\"0 -960 960 960\">\n",
              "    <path d=\"M120-120v-720h720v720H120Zm60-500h600v-160H180v160Zm220 220h160v-160H400v160Zm0 220h160v-160H400v160ZM180-400h160v-160H180v160Zm440 0h160v-160H620v160ZM180-180h160v-160H180v160Zm440 0h160v-160H620v160Z\"/>\n",
              "  </svg>\n",
              "    </button>\n",
              "\n",
              "  <style>\n",
              "    .colab-df-container {\n",
              "      display:flex;\n",
              "      gap: 12px;\n",
              "    }\n",
              "\n",
              "    .colab-df-convert {\n",
              "      background-color: #E8F0FE;\n",
              "      border: none;\n",
              "      border-radius: 50%;\n",
              "      cursor: pointer;\n",
              "      display: none;\n",
              "      fill: #1967D2;\n",
              "      height: 32px;\n",
              "      padding: 0 0 0 0;\n",
              "      width: 32px;\n",
              "    }\n",
              "\n",
              "    .colab-df-convert:hover {\n",
              "      background-color: #E2EBFA;\n",
              "      box-shadow: 0px 1px 2px rgba(60, 64, 67, 0.3), 0px 1px 3px 1px rgba(60, 64, 67, 0.15);\n",
              "      fill: #174EA6;\n",
              "    }\n",
              "\n",
              "    .colab-df-buttons div {\n",
              "      margin-bottom: 4px;\n",
              "    }\n",
              "\n",
              "    [theme=dark] .colab-df-convert {\n",
              "      background-color: #3B4455;\n",
              "      fill: #D2E3FC;\n",
              "    }\n",
              "\n",
              "    [theme=dark] .colab-df-convert:hover {\n",
              "      background-color: #434B5C;\n",
              "      box-shadow: 0px 1px 3px 1px rgba(0, 0, 0, 0.15);\n",
              "      filter: drop-shadow(0px 1px 2px rgba(0, 0, 0, 0.3));\n",
              "      fill: #FFFFFF;\n",
              "    }\n",
              "  </style>\n",
              "\n",
              "    <script>\n",
              "      const buttonEl =\n",
              "        document.querySelector('#df-7a14d615-7a62-4fc3-8324-bf37606ba3f6 button.colab-df-convert');\n",
              "      buttonEl.style.display =\n",
              "        google.colab.kernel.accessAllowed ? 'block' : 'none';\n",
              "\n",
              "      async function convertToInteractive(key) {\n",
              "        const element = document.querySelector('#df-7a14d615-7a62-4fc3-8324-bf37606ba3f6');\n",
              "        const dataTable =\n",
              "          await google.colab.kernel.invokeFunction('convertToInteractive',\n",
              "                                                    [key], {});\n",
              "        if (!dataTable) return;\n",
              "\n",
              "        const docLinkHtml = 'Like what you see? Visit the ' +\n",
              "          '<a target=\"_blank\" href=https://colab.research.google.com/notebooks/data_table.ipynb>data table notebook</a>'\n",
              "          + ' to learn more about interactive tables.';\n",
              "        element.innerHTML = '';\n",
              "        dataTable['output_type'] = 'display_data';\n",
              "        await google.colab.output.renderOutput(dataTable, element);\n",
              "        const docLink = document.createElement('div');\n",
              "        docLink.innerHTML = docLinkHtml;\n",
              "        element.appendChild(docLink);\n",
              "      }\n",
              "    </script>\n",
              "  </div>\n",
              "\n",
              "\n",
              "<div id=\"df-a01be844-086f-4254-b214-2b986549b35a\">\n",
              "  <button class=\"colab-df-quickchart\" onclick=\"quickchart('df-a01be844-086f-4254-b214-2b986549b35a')\"\n",
              "            title=\"Suggest charts\"\n",
              "            style=\"display:none;\">\n",
              "\n",
              "<svg xmlns=\"http://www.w3.org/2000/svg\" height=\"24px\"viewBox=\"0 0 24 24\"\n",
              "     width=\"24px\">\n",
              "    <g>\n",
              "        <path d=\"M19 3H5c-1.1 0-2 .9-2 2v14c0 1.1.9 2 2 2h14c1.1 0 2-.9 2-2V5c0-1.1-.9-2-2-2zM9 17H7v-7h2v7zm4 0h-2V7h2v10zm4 0h-2v-4h2v4z\"/>\n",
              "    </g>\n",
              "</svg>\n",
              "  </button>\n",
              "\n",
              "<style>\n",
              "  .colab-df-quickchart {\n",
              "      --bg-color: #E8F0FE;\n",
              "      --fill-color: #1967D2;\n",
              "      --hover-bg-color: #E2EBFA;\n",
              "      --hover-fill-color: #174EA6;\n",
              "      --disabled-fill-color: #AAA;\n",
              "      --disabled-bg-color: #DDD;\n",
              "  }\n",
              "\n",
              "  [theme=dark] .colab-df-quickchart {\n",
              "      --bg-color: #3B4455;\n",
              "      --fill-color: #D2E3FC;\n",
              "      --hover-bg-color: #434B5C;\n",
              "      --hover-fill-color: #FFFFFF;\n",
              "      --disabled-bg-color: #3B4455;\n",
              "      --disabled-fill-color: #666;\n",
              "  }\n",
              "\n",
              "  .colab-df-quickchart {\n",
              "    background-color: var(--bg-color);\n",
              "    border: none;\n",
              "    border-radius: 50%;\n",
              "    cursor: pointer;\n",
              "    display: none;\n",
              "    fill: var(--fill-color);\n",
              "    height: 32px;\n",
              "    padding: 0;\n",
              "    width: 32px;\n",
              "  }\n",
              "\n",
              "  .colab-df-quickchart:hover {\n",
              "    background-color: var(--hover-bg-color);\n",
              "    box-shadow: 0 1px 2px rgba(60, 64, 67, 0.3), 0 1px 3px 1px rgba(60, 64, 67, 0.15);\n",
              "    fill: var(--button-hover-fill-color);\n",
              "  }\n",
              "\n",
              "  .colab-df-quickchart-complete:disabled,\n",
              "  .colab-df-quickchart-complete:disabled:hover {\n",
              "    background-color: var(--disabled-bg-color);\n",
              "    fill: var(--disabled-fill-color);\n",
              "    box-shadow: none;\n",
              "  }\n",
              "\n",
              "  .colab-df-spinner {\n",
              "    border: 2px solid var(--fill-color);\n",
              "    border-color: transparent;\n",
              "    border-bottom-color: var(--fill-color);\n",
              "    animation:\n",
              "      spin 1s steps(1) infinite;\n",
              "  }\n",
              "\n",
              "  @keyframes spin {\n",
              "    0% {\n",
              "      border-color: transparent;\n",
              "      border-bottom-color: var(--fill-color);\n",
              "      border-left-color: var(--fill-color);\n",
              "    }\n",
              "    20% {\n",
              "      border-color: transparent;\n",
              "      border-left-color: var(--fill-color);\n",
              "      border-top-color: var(--fill-color);\n",
              "    }\n",
              "    30% {\n",
              "      border-color: transparent;\n",
              "      border-left-color: var(--fill-color);\n",
              "      border-top-color: var(--fill-color);\n",
              "      border-right-color: var(--fill-color);\n",
              "    }\n",
              "    40% {\n",
              "      border-color: transparent;\n",
              "      border-right-color: var(--fill-color);\n",
              "      border-top-color: var(--fill-color);\n",
              "    }\n",
              "    60% {\n",
              "      border-color: transparent;\n",
              "      border-right-color: var(--fill-color);\n",
              "    }\n",
              "    80% {\n",
              "      border-color: transparent;\n",
              "      border-right-color: var(--fill-color);\n",
              "      border-bottom-color: var(--fill-color);\n",
              "    }\n",
              "    90% {\n",
              "      border-color: transparent;\n",
              "      border-bottom-color: var(--fill-color);\n",
              "    }\n",
              "  }\n",
              "</style>\n",
              "\n",
              "  <script>\n",
              "    async function quickchart(key) {\n",
              "      const quickchartButtonEl =\n",
              "        document.querySelector('#' + key + ' button');\n",
              "      quickchartButtonEl.disabled = true;  // To prevent multiple clicks.\n",
              "      quickchartButtonEl.classList.add('colab-df-spinner');\n",
              "      try {\n",
              "        const charts = await google.colab.kernel.invokeFunction(\n",
              "            'suggestCharts', [key], {});\n",
              "      } catch (error) {\n",
              "        console.error('Error during call to suggestCharts:', error);\n",
              "      }\n",
              "      quickchartButtonEl.classList.remove('colab-df-spinner');\n",
              "      quickchartButtonEl.classList.add('colab-df-quickchart-complete');\n",
              "    }\n",
              "    (() => {\n",
              "      let quickchartButtonEl =\n",
              "        document.querySelector('#df-a01be844-086f-4254-b214-2b986549b35a button');\n",
              "      quickchartButtonEl.style.display =\n",
              "        google.colab.kernel.accessAllowed ? 'block' : 'none';\n",
              "    })();\n",
              "  </script>\n",
              "</div>\n",
              "    </div>\n",
              "  </div>\n"
            ],
            "application/vnd.google.colaboratory.intrinsic+json": {
              "type": "dataframe",
              "summary": "{\n  \"name\": \"df\",\n  \"rows\": 8,\n  \"fields\": [\n    {\n      \"column\": \"puntuacion\",\n      \"properties\": {\n        \"dtype\": \"number\",\n        \"std\": 133.85490964753095,\n        \"min\": 0.01,\n        \"max\": 381.0,\n        \"num_unique_values\": 8,\n        \"samples\": [\n          2.6903149606299213,\n          2.9,\n          381.0\n        ],\n        \"semantic_type\": \"\",\n        \"description\": \"\"\n      }\n    }\n  ]\n}"
            }
          },
          "metadata": {},
          "execution_count": 16
        }
      ]
    },
    {
      "cell_type": "markdown",
      "source": [
        "Vemos que el valor minimo es un 0.01, el maximo 4,84 y la media 2,69. Tenemos unos buenos datos."
      ],
      "metadata": {
        "id": "4ondMxT0USVy"
      }
    },
    {
      "cell_type": "markdown",
      "source": [
        "## Preparacion de los modelos y entrenamiento."
      ],
      "metadata": {
        "id": "N-OVPNxDKyFa"
      }
    },
    {
      "cell_type": "code",
      "source": [
        "# Con las estopwords\n",
        "df['texto'] = df['texto'].apply(lambda x: ' '.join([word.lower() for word in x.split() if word.isalpha()]))"
      ],
      "metadata": {
        "id": "6H7xZaKmKrS5"
      },
      "execution_count": 17,
      "outputs": []
    },
    {
      "cell_type": "code",
      "source": [
        "# Sin las stopwords\n",
        "stop_words = set(stopwords.words('spanish'))\n",
        "df['texto'] = df['texto'].apply(lambda x: ' '.join([word.lower() for word in x.split() if word.isalpha() and word.lower() not in stop_words]))"
      ],
      "metadata": {
        "id": "CP6MsCnqK3NJ"
      },
      "execution_count": 18,
      "outputs": []
    },
    {
      "cell_type": "markdown",
      "source": [
        "Probamos como funcionan mejor los modelos si dejando las stopword o quitandolas."
      ],
      "metadata": {
        "id": "92mpPhuaK7t8"
      }
    },
    {
      "cell_type": "markdown",
      "source": [
        "### Separamos los valores para el entrenamiento."
      ],
      "metadata": {
        "id": "eh38WbvGNS8t"
      }
    },
    {
      "cell_type": "code",
      "source": [
        "# División de datos en conjuntos de entrenamiento y prueba\n",
        "X_train, X_test, y_train, y_test = train_test_split(df['texto'], df['puntuacion'], test_size=0.2, random_state=42)"
      ],
      "metadata": {
        "id": "Mfco6YOsNTH8"
      },
      "execution_count": 19,
      "outputs": []
    },
    {
      "cell_type": "markdown",
      "source": [
        "### Modelo SVR."
      ],
      "metadata": {
        "id": "hCrmdA5SMDRS"
      }
    },
    {
      "cell_type": "code",
      "source": [
        "# Crear un modelo de Support Vector Machine con un pipeline que incluye un vectorizador de texto\n",
        "model_svm = make_pipeline(CountVectorizer(), SVR())\n",
        "\n",
        "# Entrenar el modelo SVM\n",
        "model_svm.fit(X_train, y_train)\n",
        "\n",
        "# Realizar predicciones en el conjunto de prueba\n",
        "predictions_svm = model_svm.predict(X_test)\n",
        "\n",
        "# Evaluar el rendimiento del modelo SVM (opcional)\n",
        "mae_svm = mean_absolute_error(y_test, predictions_svm)\n",
        "print(f'Mean Absolute Error (SVM): {mae_svm}')\n",
        "\n",
        "# Calcular el rango de los datos\n",
        "rango_datos = np.ptp(y_train)\n",
        "print(f'Rango de los datos: {rango_datos}')\n",
        "\n",
        "# Calcular el porcentaje de precisión\n",
        "precision = 1 - mae_svm / rango_datos\n",
        "print(f'Porcentaje de precisión: {precision * 100:.2f}%')"
      ],
      "metadata": {
        "colab": {
          "base_uri": "https://localhost:8080/"
        },
        "id": "uD_AE4RqLAI5",
        "outputId": "ac750f7f-5164-4732-b2dd-54c587cc53ee"
      },
      "execution_count": 20,
      "outputs": [
        {
          "output_type": "stream",
          "name": "stdout",
          "text": [
            "Mean Absolute Error (SVM): 0.8328487949807007\n",
            "Rango de los datos: 4.83\n",
            "Porcentaje de precisión: 82.76%\n"
          ]
        }
      ]
    },
    {
      "cell_type": "markdown",
      "source": [
        "### Modelo de regresión lineal."
      ],
      "metadata": {
        "id": "dmsvO8NENiEJ"
      }
    },
    {
      "cell_type": "code",
      "source": [
        "# Crear un modelo de regresión lineal con un pipeline que incluye un vectorizador de texto\n",
        "model = make_pipeline(CountVectorizer(), LinearRegression())\n",
        "\n",
        "# Entrenar el modelo\n",
        "model.fit(X_train, y_train)\n",
        "\n",
        "# Realizar predicciones en el conjunto de prueba\n",
        "predictions = model.predict(X_test)\n",
        "\n",
        "# Evaluar el rendimiento del modelo (opcional)\n",
        "mse = mean_squared_error(y_test, predictions)\n",
        "print(f'Mean Squared Error: {mse}')\n",
        "\n",
        "# Calcular el rango de los datos\n",
        "rango_datos = np.ptp(y_train)\n",
        "\n",
        "# Calcular el Mean Squared Error (MSE)\n",
        "mse = mean_squared_error(y_test, predictions)\n",
        "\n",
        "# Calcular el porcentaje de precisión\n",
        "precision = 1 - mse / (rango_datos ** 2)\n",
        "\n",
        "print(f'Porcentaje de precisión: {precision * 100:.2f}%')"
      ],
      "metadata": {
        "colab": {
          "base_uri": "https://localhost:8080/"
        },
        "id": "51m7Am4uNiMF",
        "outputId": "b167279e-5268-4b01-e8b9-b0dbc31e0c1b"
      },
      "execution_count": 21,
      "outputs": [
        {
          "output_type": "stream",
          "name": "stdout",
          "text": [
            "Mean Squared Error: 1.7861577832948043\n",
            "Porcentaje de precisión: 92.34%\n"
          ]
        }
      ]
    },
    {
      "cell_type": "markdown",
      "source": [
        "### Modelo RandomForestRegressor."
      ],
      "metadata": {
        "id": "BX0K3J_5N1nI"
      }
    },
    {
      "cell_type": "code",
      "source": [
        "# Crear un modelo de Random Forest con un pipeline que incluye un vectorizador de texto\n",
        "model_rf = make_pipeline(CountVectorizer(), RandomForestRegressor())\n",
        "\n",
        "# Entrenar el modelo Random Forest\n",
        "model_rf.fit(X_train, y_train)\n",
        "\n",
        "# Realizar predicciones en el conjunto de prueba\n",
        "predictions_rf = model_rf.predict(X_test)\n",
        "\n",
        "# Evaluar el rendimiento del modelo Random Forest (opcional)\n",
        "mae_rf = mean_absolute_error(y_test, predictions_rf)\n",
        "print(f'Mean Absolute Error (Random Forest): {mae_rf}')\n",
        "\n",
        "# Calcular el rango de los datos\n",
        "rango_datos = np.ptp(y_train)\n",
        "print(f'Rango de los datos: {rango_datos}')\n",
        "\n",
        "# Calcular el porcentaje de precisión\n",
        "precision = 1 - mae_rf / rango_datos\n",
        "print(f'Porcentaje de precisión: {precision * 100:.2f}%')"
      ],
      "metadata": {
        "colab": {
          "base_uri": "https://localhost:8080/"
        },
        "id": "hKEHkL-rN1r6",
        "outputId": "7c92ab3f-624f-432c-c917-e5ed10a1d3b4"
      },
      "execution_count": 22,
      "outputs": [
        {
          "output_type": "stream",
          "name": "stdout",
          "text": [
            "Mean Absolute Error (Random Forest): 0.7867273084210821\n",
            "Rango de los datos: 4.83\n",
            "Porcentaje de precisión: 83.71%\n"
          ]
        }
      ]
    },
    {
      "cell_type": "markdown",
      "source": [
        "### Modelo red neuronal."
      ],
      "metadata": {
        "id": "Mvse2BCdN83O"
      }
    },
    {
      "cell_type": "code",
      "source": [
        "# Tokenización y padding para la entrada de la red neuronal\n",
        "tokenizer = Tokenizer()\n",
        "tokenizer.fit_on_texts(X_train)\n",
        "\n",
        "X_train_seq = tokenizer.texts_to_sequences(X_train)\n",
        "X_test_seq = tokenizer.texts_to_sequences(X_test)\n",
        "\n",
        "vocab_size = len(tokenizer.word_index) + 1\n",
        "max_length = max(max(len(seq) for seq in X_train_seq), max(len(seq) for seq in X_test_seq))\n",
        "X_train_pad = pad_sequences(X_train_seq, maxlen=max_length, padding='post')\n",
        "X_test_pad = pad_sequences(X_test_seq, maxlen=max_length, padding='post')\n",
        "\n",
        "# Crear el modelo de red neuronal\n",
        "model_nn = Sequential()\n",
        "model_nn.add(Embedding(input_dim=vocab_size, output_dim=100, input_length=max_length))\n",
        "model_nn.add(Flatten())\n",
        "model_nn.add(Dense(500, activation='relu'))\n",
        "model_nn.add(Dropout(0.05))\n",
        "model_nn.add(Dense(500, activation='relu'))\n",
        "model_nn.add(Dropout(0.05))\n",
        "model_nn.add(Dense(500, activation='relu'))\n",
        "model_nn.add(Dropout(0.05))\n",
        "model_nn.add(Dense(500, activation='relu'))\n",
        "model_nn.add(Dropout(0.05))\n",
        "model_nn.add(Dense(500, activation='relu'))\n",
        "model_nn.add(Dropout(0.05))\n",
        "model_nn.add(Dense(1, activation='linear'))\n",
        "\n",
        "# Compilar el modelo con learning rate personalizado\n",
        "model_nn.compile(optimizer=keras.optimizers.Adam(learning_rate=0.0001), loss='mean_squared_error')  # Para problemas de regresión\n",
        "\n",
        "# Definir el callback History para almacenar métricas\n",
        "history_callback = History()\n",
        "\n",
        "# Entrenar el modelo con EarlyStopping y History\n",
        "early_stopping = EarlyStopping(monitor='val_loss', patience=5, restore_best_weights=True)\n",
        "model_nn.fit(X_train_pad, y_train, epochs=25, batch_size=32, validation_data=(X_test_pad, y_test), callbacks=[early_stopping, history_callback])\n",
        "\n",
        "# Obtener las métricas de entrenamiento y validación\n",
        "training_metrics = history_callback.history['loss']\n",
        "validation_metrics = history_callback.history['val_loss']\n",
        "\n",
        "# Realizar predicciones en el conjunto de prueba\n",
        "predictions_nn = model_nn.predict(X_test_pad)\n",
        "\n",
        "# Evaluar el rendimiento del modelo de red neuronal (opcional)\n",
        "mae_nn = mean_absolute_error(y_test, predictions_nn)\n",
        "print(f'Mean Absolute Error (Neural Network): {mae_nn}')\n",
        "\n",
        "# Calcular el rango de los datos\n",
        "rango_datos = np.ptp(y_train)\n",
        "print(f'Rango de los datos: {rango_datos}')\n",
        "\n",
        "# Calcular el porcentaje de precisión\n",
        "precision = 1 - mae_nn / rango_datos\n",
        "print(f'Porcentaje de precisión: {precision * 100:.2f}%')"
      ],
      "metadata": {
        "colab": {
          "base_uri": "https://localhost:8080/"
        },
        "id": "bHddD6UNN88q",
        "outputId": "156590bf-4484-44e0-890c-d76495663cf1"
      },
      "execution_count": 26,
      "outputs": [
        {
          "output_type": "stream",
          "name": "stdout",
          "text": [
            "Epoch 1/25\n",
            "10/10 [==============================] - 2s 51ms/step - loss: 7.0906 - val_loss: 4.5270\n",
            "Epoch 2/25\n",
            "10/10 [==============================] - 0s 26ms/step - loss: 2.3337 - val_loss: 2.2872\n",
            "Epoch 3/25\n",
            "10/10 [==============================] - 0s 26ms/step - loss: 1.4334 - val_loss: 1.4342\n",
            "Epoch 4/25\n",
            "10/10 [==============================] - 0s 26ms/step - loss: 1.3200 - val_loss: 1.3456\n",
            "Epoch 5/25\n",
            "10/10 [==============================] - 0s 26ms/step - loss: 1.1578 - val_loss: 1.3682\n",
            "Epoch 6/25\n",
            "10/10 [==============================] - 0s 27ms/step - loss: 1.1221 - val_loss: 1.3357\n",
            "Epoch 7/25\n",
            "10/10 [==============================] - 0s 26ms/step - loss: 1.0790 - val_loss: 1.3353\n",
            "Epoch 8/25\n",
            "10/10 [==============================] - 0s 27ms/step - loss: 1.0530 - val_loss: 1.3331\n",
            "Epoch 9/25\n",
            "10/10 [==============================] - 0s 26ms/step - loss: 1.0519 - val_loss: 1.3324\n",
            "Epoch 10/25\n",
            "10/10 [==============================] - 0s 29ms/step - loss: 1.0354 - val_loss: 1.3310\n",
            "Epoch 11/25\n",
            "10/10 [==============================] - 0s 26ms/step - loss: 1.0010 - val_loss: 1.3333\n",
            "Epoch 12/25\n",
            "10/10 [==============================] - 0s 26ms/step - loss: 0.9896 - val_loss: 1.3325\n",
            "Epoch 13/25\n",
            "10/10 [==============================] - 0s 25ms/step - loss: 0.9783 - val_loss: 1.3554\n",
            "Epoch 14/25\n",
            "10/10 [==============================] - 0s 25ms/step - loss: 0.9900 - val_loss: 1.3639\n",
            "Epoch 15/25\n",
            "10/10 [==============================] - 0s 26ms/step - loss: 0.9038 - val_loss: 1.3802\n",
            "3/3 [==============================] - 0s 6ms/step\n",
            "Mean Absolute Error (Neural Network): 0.9267976227054349\n",
            "Rango de los datos: 4.83\n",
            "Porcentaje de precisión: 80.81%\n"
          ]
        }
      ]
    },
    {
      "cell_type": "markdown",
      "source": [
        "## Resultado de los modelos y pruebas"
      ],
      "metadata": {
        "id": "nmpJZ3j5ON2P"
      }
    },
    {
      "cell_type": "code",
      "source": [
        "new_texts = ['estoy super contento','estoy bastante mal','me quiero morir','se me a juntado la tristeza y la depresion']\n",
        "stop_words = set(stopwords.words('spanish'))\n",
        "#new_texts_processed = [' '.join([word.lower() for word in x.split() if word.isalpha() and word.lower() not in stop_words]) for x in new_texts]\n",
        "\n",
        "new_predictions = model.predict(new_texts)\n",
        "print(\"Modelo 1: \",new_predictions)\n",
        "\n",
        "new_predictions = model_svm.predict(new_texts)\n",
        "print(\"Modelo 2: \",new_predictions)\n",
        "\n",
        "new_predictions_rf = model_rf.predict(new_texts)\n",
        "print(\"Modelo 3: \",new_predictions_rf)\n",
        "\n",
        "new_texts_seq = tokenizer.texts_to_sequences(new_texts)\n",
        "new_texts_pad = pad_sequences(new_texts_seq, maxlen=max_length, padding='post')\n",
        "new_predictions_nn = model_nn.predict(new_texts_pad)\n",
        "print(\"Modelo 4: \",new_predictions_nn)"
      ],
      "metadata": {
        "colab": {
          "base_uri": "https://localhost:8080/"
        },
        "id": "Zm6f1mzVOjXX",
        "outputId": "a295b713-9281-4148-b900-b354a5f9bf1d"
      },
      "execution_count": 27,
      "outputs": [
        {
          "output_type": "stream",
          "name": "stdout",
          "text": [
            "Modelo 1:  [4.23474756 1.22759388 2.5672174  2.51917175]\n",
            "Modelo 2:  [3.17500356 1.83105475 2.61806822 2.52757128]\n",
            "Modelo 3:  [3.63373333 1.39414103 2.55350997 2.53998038]\n",
            "1/1 [==============================] - 0s 26ms/step\n",
            "Modelo 4:  [[2.701569 ]\n",
            " [2.6394732]\n",
            " [2.6639829]\n",
            " [2.643667 ]]\n"
          ]
        }
      ]
    },
    {
      "cell_type": "markdown",
      "source": [
        "Aquí podemos ver algunos resultados con algunas frases el que mayor coerencia tiene pensamos que es el de LinearRegression."
      ],
      "metadata": {
        "id": "b2gdJ9bsPkre"
      }
    },
    {
      "cell_type": "markdown",
      "source": [
        "## Exportamos el modelo."
      ],
      "metadata": {
        "id": "IpICV-QZP9F7"
      }
    },
    {
      "cell_type": "code",
      "source": [
        "joblib.dump(model,\"/content/drive/MyDrive/dataset/sentimientos_modelo.pkl\")"
      ],
      "metadata": {
        "id": "_r7gyOnrP9NA"
      },
      "execution_count": null,
      "outputs": []
    }
  ]
}